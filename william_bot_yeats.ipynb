{
  "cells": [
    {
      "cell_type": "markdown",
      "metadata": {
        "id": "view-in-github",
        "colab_type": "text"
      },
      "source": [
        "<a href=\"https://colab.research.google.com/github/lindonjonhson/irish-songs-generator/blob/main/william_bot_yeats.ipynb\" target=\"_parent\"><img src=\"https://colab.research.google.com/assets/colab-badge.svg\" alt=\"Open In Colab\"/></a>"
      ]
    },
    {
      "cell_type": "code",
      "execution_count": 2,
      "metadata": {
        "id": "pm5DbOhwfVTL"
      },
      "outputs": [],
      "source": [
        "import tensorflow as tf\n",
        "\n",
        "from tensorflow.keras.preprocessing.sequence import pad_sequences\n",
        "from tensorflow.keras.layers import Embedding, LSTM, Dense, Bidirectional\n",
        "from tensorflow.keras.preprocessing.text import Tokenizer\n",
        "from tensorflow.keras.models import Sequential\n",
        "from tensorflow.keras.optimizers import Adam\n",
        "import numpy as np"
      ]
    },
    {
      "cell_type": "code",
      "execution_count": 3,
      "metadata": {
        "colab": {
          "base_uri": "https://localhost:8080/"
        },
        "id": "RDeqy_9nfosS",
        "outputId": "482030b2-cb3f-4e8f-ac0c-a88eb657aa90"
      },
      "outputs": [
        {
          "output_type": "stream",
          "name": "stdout",
          "text": [
            "--2024-04-11 10:04:38--  https://storage.googleapis.com/learning-datasets/irish-lyrics-eof.txt\n",
            "Resolving storage.googleapis.com (storage.googleapis.com)... 64.233.183.207, 173.194.193.207, 173.194.194.207, ...\n",
            "Connecting to storage.googleapis.com (storage.googleapis.com)|64.233.183.207|:443... connected.\n",
            "HTTP request sent, awaiting response... 200 OK\n",
            "Length: 68970 (67K) [text/plain]\n",
            "Saving to: ‘/tmp/irish-lyrics-eof.txt’\n",
            "\n",
            "\r          /tmp/iris   0%[                    ]       0  --.-KB/s               \r/tmp/irish-lyrics-e 100%[===================>]  67.35K  --.-KB/s    in 0.001s  \n",
            "\n",
            "2024-04-11 10:04:39 (77.6 MB/s) - ‘/tmp/irish-lyrics-eof.txt’ saved [68970/68970]\n",
            "\n"
          ]
        }
      ],
      "source": [
        "!wget --no-check-certificate \\\n",
        "    https://storage.googleapis.com/learning-datasets/irish-lyrics-eof.txt \\\n",
        "    -O /tmp/irish-lyrics-eof.txt"
      ]
    },
    {
      "cell_type": "code",
      "execution_count": 4,
      "metadata": {
        "id": "3VXNy32xpz5p"
      },
      "outputs": [],
      "source": [
        "tokenizer = Tokenizer()\n",
        "\n",
        "data = open('/tmp/irish-lyrics-eof.txt').read()\n",
        "\n",
        "corpus = data.lower().split(\"\\n\")\n",
        "\n",
        "#Fitting the tokenizer with the sentences\n",
        "tokenizer.fit_on_texts(corpus)\n",
        "total_words = len(tokenizer.word_index) + 1   #2690"
      ]
    },
    {
      "cell_type": "markdown",
      "metadata": {
        "id": "GkBDUyH33gKC"
      },
      "source": [
        "When generating text, we do not need a test set"
      ]
    },
    {
      "cell_type": "code",
      "execution_count": 5,
      "metadata": {
        "id": "I200bd6_p4x2"
      },
      "outputs": [],
      "source": [
        "# Creating sequences\n",
        "input_sequences =[]\n",
        "\n",
        "for line in corpus:\n",
        "  token_list = tokenizer.texts_to_sequences([line])[0]  # Transform the lines in arrays with the codes from the word index\n",
        "  #print(token_list)\n",
        "  #print(line)\n",
        "  #print(len(token_list))\n",
        "  for i in range(1, len(token_list)): # Now we will work with ngrams, which are the \"parts\" of a line until it is completemax\n",
        "    #print(token_list[:i+1])\n",
        "    n_gram_sequence = token_list[:i+1]\n",
        "    #print(n_gram_sequence)\n",
        "    input_sequences.append(n_gram_sequence)"
      ]
    },
    {
      "cell_type": "code",
      "execution_count": 6,
      "metadata": {
        "id": "9xCgq1Qoujb2"
      },
      "outputs": [],
      "source": [
        "# Retrieving the length of the longest of the sentences\n",
        "max_sequence_len = max(len(x) for x in input_sequences)\n",
        "\n",
        "#Padding\n",
        "input_sequences = np.array(pad_sequences(input_sequences, maxlen=max_sequence_len, padding='pre'))"
      ]
    },
    {
      "cell_type": "code",
      "execution_count": 7,
      "metadata": {
        "id": "vkKh63uowvq7"
      },
      "outputs": [],
      "source": [
        "# Generating Xs and Ys/labels by splitting the arrays\n",
        "\n",
        "xs = input_sequences[:, :-1]\n",
        "labels = input_sequences[:, -1]"
      ]
    },
    {
      "cell_type": "code",
      "execution_count": 8,
      "metadata": {
        "id": "4QWCtNDcrSjS"
      },
      "outputs": [],
      "source": [
        "# Now we will make the labels categorical and hot-encoded\n",
        "ys = tf.keras.utils.to_categorical(labels, num_classes=total_words)"
      ]
    },
    {
      "cell_type": "code",
      "execution_count": 9,
      "metadata": {
        "colab": {
          "base_uri": "https://localhost:8080/"
        },
        "id": "TTt26EBUtruz",
        "outputId": "37a3f906-7a36-46ce-9ff2-095c12b844ce"
      },
      "outputs": [
        {
          "metadata": {
            "tags": null
          },
          "name": "stderr",
          "output_type": "stream",
          "text": [
            "WARNING:absl:`lr` is deprecated in Keras optimizer, please use `learning_rate` or use the legacy optimizer, e.g.,tf.keras.optimizers.legacy.Adam.\n"
          ]
        },
        {
          "output_type": "stream",
          "name": "stdout",
          "text": [
            "Epoch 1/100\n",
            "377/377 [==============================] - 39s 92ms/step - loss: 6.7739 - accuracy: 0.0640\n",
            "Epoch 2/100\n",
            "377/377 [==============================] - 33s 88ms/step - loss: 6.2589 - accuracy: 0.0746\n",
            "Epoch 3/100\n",
            "377/377 [==============================] - 35s 93ms/step - loss: 6.0109 - accuracy: 0.0835\n",
            "Epoch 4/100\n",
            "377/377 [==============================] - 35s 93ms/step - loss: 5.7115 - accuracy: 0.0990\n",
            "Epoch 5/100\n",
            "377/377 [==============================] - 33s 88ms/step - loss: 5.3666 - accuracy: 0.1185\n",
            "Epoch 6/100\n",
            "377/377 [==============================] - 35s 92ms/step - loss: 5.0121 - accuracy: 0.1347\n",
            "Epoch 7/100\n",
            "377/377 [==============================] - 34s 90ms/step - loss: 4.6670 - accuracy: 0.1504\n",
            "Epoch 8/100\n",
            "377/377 [==============================] - 34s 89ms/step - loss: 4.3298 - accuracy: 0.1789\n",
            "Epoch 9/100\n",
            "377/377 [==============================] - 34s 90ms/step - loss: 4.0065 - accuracy: 0.2142\n",
            "Epoch 10/100\n",
            "377/377 [==============================] - 32s 84ms/step - loss: 3.6896 - accuracy: 0.2581\n",
            "Epoch 11/100\n",
            "377/377 [==============================] - 32s 86ms/step - loss: 3.3958 - accuracy: 0.3084\n",
            "Epoch 12/100\n",
            "377/377 [==============================] - 31s 83ms/step - loss: 3.1005 - accuracy: 0.3610\n",
            "Epoch 13/100\n",
            "377/377 [==============================] - 33s 87ms/step - loss: 2.8273 - accuracy: 0.4159\n",
            "Epoch 14/100\n",
            "377/377 [==============================] - 31s 81ms/step - loss: 2.5806 - accuracy: 0.4659\n",
            "Epoch 15/100\n",
            "377/377 [==============================] - 39s 102ms/step - loss: 2.3442 - accuracy: 0.5184\n",
            "Epoch 16/100\n",
            "377/377 [==============================] - 33s 87ms/step - loss: 2.1321 - accuracy: 0.5612\n",
            "Epoch 17/100\n",
            "377/377 [==============================] - 31s 81ms/step - loss: 1.9414 - accuracy: 0.6018\n",
            "Epoch 18/100\n",
            "377/377 [==============================] - 31s 82ms/step - loss: 1.7680 - accuracy: 0.6377\n",
            "Epoch 19/100\n",
            "377/377 [==============================] - 31s 83ms/step - loss: 1.6067 - accuracy: 0.6665\n",
            "Epoch 20/100\n",
            "377/377 [==============================] - 31s 83ms/step - loss: 1.4644 - accuracy: 0.6995\n",
            "Epoch 21/100\n",
            "377/377 [==============================] - 30s 80ms/step - loss: 1.3434 - accuracy: 0.7226\n",
            "Epoch 22/100\n",
            "377/377 [==============================] - 33s 87ms/step - loss: 1.2321 - accuracy: 0.7486\n",
            "Epoch 23/100\n",
            "377/377 [==============================] - 32s 84ms/step - loss: 1.1368 - accuracy: 0.7678\n",
            "Epoch 24/100\n",
            "377/377 [==============================] - 33s 88ms/step - loss: 1.0521 - accuracy: 0.7840\n",
            "Epoch 25/100\n",
            "377/377 [==============================] - 32s 86ms/step - loss: 0.9768 - accuracy: 0.7974\n",
            "Epoch 26/100\n",
            "377/377 [==============================] - 33s 87ms/step - loss: 0.9100 - accuracy: 0.8100\n",
            "Epoch 27/100\n",
            "377/377 [==============================] - 33s 87ms/step - loss: 0.8563 - accuracy: 0.8182\n",
            "Epoch 28/100\n",
            "377/377 [==============================] - 32s 85ms/step - loss: 0.8079 - accuracy: 0.8261\n",
            "Epoch 29/100\n",
            "377/377 [==============================] - 33s 88ms/step - loss: 0.7700 - accuracy: 0.8315\n",
            "Epoch 30/100\n",
            "377/377 [==============================] - 32s 85ms/step - loss: 0.7375 - accuracy: 0.8363\n",
            "Epoch 31/100\n",
            "377/377 [==============================] - 33s 88ms/step - loss: 0.7016 - accuracy: 0.8404\n",
            "Epoch 32/100\n",
            "377/377 [==============================] - 33s 88ms/step - loss: 0.6755 - accuracy: 0.8417\n",
            "Epoch 33/100\n",
            "377/377 [==============================] - 31s 83ms/step - loss: 0.6562 - accuracy: 0.8455\n",
            "Epoch 34/100\n",
            "377/377 [==============================] - 32s 85ms/step - loss: 0.6344 - accuracy: 0.8471\n",
            "Epoch 35/100\n",
            "377/377 [==============================] - 32s 86ms/step - loss: 0.6192 - accuracy: 0.8490\n",
            "Epoch 36/100\n",
            "377/377 [==============================] - 35s 92ms/step - loss: 0.6044 - accuracy: 0.8497\n",
            "Epoch 37/100\n",
            "377/377 [==============================] - 33s 89ms/step - loss: 0.5960 - accuracy: 0.8502\n",
            "Epoch 38/100\n",
            "377/377 [==============================] - 32s 86ms/step - loss: 0.5865 - accuracy: 0.8517\n",
            "Epoch 39/100\n",
            "377/377 [==============================] - 33s 87ms/step - loss: 0.5772 - accuracy: 0.8516\n",
            "Epoch 40/100\n",
            "377/377 [==============================] - 32s 84ms/step - loss: 0.5676 - accuracy: 0.8511\n",
            "Epoch 41/100\n",
            "377/377 [==============================] - 33s 87ms/step - loss: 0.5651 - accuracy: 0.8511\n",
            "Epoch 42/100\n",
            "377/377 [==============================] - 33s 87ms/step - loss: 0.5585 - accuracy: 0.8512\n",
            "Epoch 43/100\n",
            "377/377 [==============================] - 32s 85ms/step - loss: 0.5521 - accuracy: 0.8517\n",
            "Epoch 44/100\n",
            "377/377 [==============================] - 33s 87ms/step - loss: 0.5458 - accuracy: 0.8514\n",
            "Epoch 45/100\n",
            "377/377 [==============================] - 33s 87ms/step - loss: 0.5412 - accuracy: 0.8502\n",
            "Epoch 46/100\n",
            "377/377 [==============================] - 33s 87ms/step - loss: 0.5361 - accuracy: 0.8519\n",
            "Epoch 47/100\n",
            "377/377 [==============================] - 32s 85ms/step - loss: 0.5317 - accuracy: 0.8516\n",
            "Epoch 48/100\n",
            "377/377 [==============================] - 34s 89ms/step - loss: 0.5325 - accuracy: 0.8514\n",
            "Epoch 49/100\n",
            "377/377 [==============================] - 33s 89ms/step - loss: 0.5266 - accuracy: 0.8516\n",
            "Epoch 50/100\n",
            "377/377 [==============================] - 31s 82ms/step - loss: 0.5213 - accuracy: 0.8531\n",
            "Epoch 51/100\n",
            "377/377 [==============================] - 33s 87ms/step - loss: 0.5200 - accuracy: 0.8528\n",
            "Epoch 52/100\n",
            "377/377 [==============================] - 31s 83ms/step - loss: 0.5194 - accuracy: 0.8501\n",
            "Epoch 53/100\n",
            "377/377 [==============================] - 33s 87ms/step - loss: 0.5131 - accuracy: 0.8522\n",
            "Epoch 54/100\n",
            "377/377 [==============================] - 33s 88ms/step - loss: 0.5133 - accuracy: 0.8534\n",
            "Epoch 55/100\n",
            "377/377 [==============================] - 34s 91ms/step - loss: 0.5125 - accuracy: 0.8509\n",
            "Epoch 56/100\n",
            "377/377 [==============================] - 35s 94ms/step - loss: 0.5110 - accuracy: 0.8540\n",
            "Epoch 57/100\n",
            "377/377 [==============================] - 35s 93ms/step - loss: 0.5107 - accuracy: 0.8517\n",
            "Epoch 58/100\n",
            "377/377 [==============================] - 34s 89ms/step - loss: 0.5089 - accuracy: 0.8517\n",
            "Epoch 59/100\n",
            "377/377 [==============================] - 35s 92ms/step - loss: 0.5088 - accuracy: 0.8503\n",
            "Epoch 60/100\n",
            "377/377 [==============================] - 35s 93ms/step - loss: 0.5031 - accuracy: 0.8528\n",
            "Epoch 61/100\n",
            "377/377 [==============================] - 34s 91ms/step - loss: 0.5017 - accuracy: 0.8510\n",
            "Epoch 62/100\n",
            "377/377 [==============================] - 35s 94ms/step - loss: 0.5002 - accuracy: 0.8524\n",
            "Epoch 63/100\n",
            "377/377 [==============================] - 35s 93ms/step - loss: 0.4981 - accuracy: 0.8521\n",
            "Epoch 64/100\n",
            "377/377 [==============================] - 35s 92ms/step - loss: 0.4959 - accuracy: 0.8522\n",
            "Epoch 65/100\n",
            "377/377 [==============================] - 34s 90ms/step - loss: 0.4954 - accuracy: 0.8538\n",
            "Epoch 66/100\n",
            "377/377 [==============================] - 36s 94ms/step - loss: 0.4956 - accuracy: 0.8519\n",
            "Epoch 67/100\n",
            "377/377 [==============================] - 36s 95ms/step - loss: 0.4939 - accuracy: 0.8521\n",
            "Epoch 68/100\n",
            "377/377 [==============================] - 33s 88ms/step - loss: 0.4908 - accuracy: 0.8540\n",
            "Epoch 69/100\n",
            "377/377 [==============================] - 34s 89ms/step - loss: 0.4903 - accuracy: 0.8526\n",
            "Epoch 70/100\n",
            "377/377 [==============================] - 34s 91ms/step - loss: 0.4899 - accuracy: 0.8525\n",
            "Epoch 71/100\n",
            "377/377 [==============================] - 34s 90ms/step - loss: 0.4902 - accuracy: 0.8526\n",
            "Epoch 72/100\n",
            "377/377 [==============================] - 34s 90ms/step - loss: 0.4906 - accuracy: 0.8523\n",
            "Epoch 73/100\n",
            "377/377 [==============================] - 35s 93ms/step - loss: 0.4864 - accuracy: 0.8521\n",
            "Epoch 74/100\n",
            "377/377 [==============================] - 35s 92ms/step - loss: 0.4848 - accuracy: 0.8529\n",
            "Epoch 75/100\n",
            "377/377 [==============================] - 35s 92ms/step - loss: 0.4839 - accuracy: 0.8531\n",
            "Epoch 76/100\n",
            "377/377 [==============================] - 35s 94ms/step - loss: 0.4862 - accuracy: 0.8515\n",
            "Epoch 77/100\n",
            "377/377 [==============================] - 35s 94ms/step - loss: 0.4820 - accuracy: 0.8535\n",
            "Epoch 78/100\n",
            "377/377 [==============================] - 34s 89ms/step - loss: 0.4804 - accuracy: 0.8522\n",
            "Epoch 79/100\n",
            "377/377 [==============================] - 35s 92ms/step - loss: 0.4798 - accuracy: 0.8552\n",
            "Epoch 80/100\n",
            "377/377 [==============================] - 36s 95ms/step - loss: 0.4792 - accuracy: 0.8537\n",
            "Epoch 81/100\n",
            "377/377 [==============================] - 35s 94ms/step - loss: 0.4776 - accuracy: 0.8541\n",
            "Epoch 82/100\n",
            "377/377 [==============================] - 34s 90ms/step - loss: 0.4786 - accuracy: 0.8549\n",
            "Epoch 83/100\n",
            "377/377 [==============================] - 36s 95ms/step - loss: 0.4792 - accuracy: 0.8530\n",
            "Epoch 84/100\n",
            "377/377 [==============================] - 35s 93ms/step - loss: 0.4854 - accuracy: 0.8510\n",
            "Epoch 85/100\n",
            "377/377 [==============================] - 35s 94ms/step - loss: 0.4840 - accuracy: 0.8530\n",
            "Epoch 86/100\n",
            "377/377 [==============================] - 35s 94ms/step - loss: 0.4793 - accuracy: 0.8529\n",
            "Epoch 87/100\n",
            "377/377 [==============================] - 36s 95ms/step - loss: 0.4748 - accuracy: 0.8535\n",
            "Epoch 88/100\n",
            "377/377 [==============================] - 35s 92ms/step - loss: 0.4722 - accuracy: 0.8538\n",
            "Epoch 89/100\n",
            "377/377 [==============================] - 35s 92ms/step - loss: 0.4715 - accuracy: 0.8548\n",
            "Epoch 90/100\n",
            "377/377 [==============================] - 34s 90ms/step - loss: 0.4731 - accuracy: 0.8540\n",
            "Epoch 91/100\n",
            "377/377 [==============================] - 35s 93ms/step - loss: 0.4725 - accuracy: 0.8525\n",
            "Epoch 92/100\n",
            "377/377 [==============================] - 35s 93ms/step - loss: 0.4728 - accuracy: 0.8546\n",
            "Epoch 93/100\n",
            "377/377 [==============================] - 34s 90ms/step - loss: 0.4757 - accuracy: 0.8540\n",
            "Epoch 94/100\n",
            "377/377 [==============================] - 36s 95ms/step - loss: 0.4768 - accuracy: 0.8530\n",
            "Epoch 95/100\n",
            "377/377 [==============================] - 36s 97ms/step - loss: 0.4729 - accuracy: 0.8546\n",
            "Epoch 96/100\n",
            "377/377 [==============================] - 37s 97ms/step - loss: 0.4700 - accuracy: 0.8526\n",
            "Epoch 97/100\n",
            "377/377 [==============================] - 35s 92ms/step - loss: 0.4702 - accuracy: 0.8541\n",
            "Epoch 98/100\n",
            "377/377 [==============================] - 40s 105ms/step - loss: 0.4677 - accuracy: 0.8550\n",
            "Epoch 99/100\n",
            "377/377 [==============================] - 42s 112ms/step - loss: 0.4670 - accuracy: 0.8545\n",
            "Epoch 100/100\n",
            "377/377 [==============================] - 37s 99ms/step - loss: 0.4675 - accuracy: 0.8534\n",
            "<keras.src.engine.sequential.Sequential object at 0x7eea5cb2cee0>\n"
          ]
        }
      ],
      "source": [
        "model = Sequential()\n",
        "model.add(Embedding(total_words, 100, input_length=max_sequence_len-1))\n",
        "model.add(Bidirectional(LSTM(150)))\n",
        "model.add(Dense(total_words, activation='softmax'))\n",
        "adam = Adam(lr=0.01)\n",
        "model.compile(loss='categorical_crossentropy', optimizer=adam, metrics=['accuracy'])\n",
        "#earlystop = EarlyStopping(monitor='val_loss', min_delta=0, patience=5, verbose=0, mode='auto')\n",
        "history = model.fit(xs, ys, epochs=100, verbose=1)\n",
        "#print model.summary()\n",
        "print(model)\n"
      ]
    },
    {
      "cell_type": "code",
      "execution_count": 10,
      "metadata": {
        "id": "xi3JAibjuQux"
      },
      "outputs": [],
      "source": [
        "import matplotlib.pyplot as plt\n",
        "\n",
        "\n",
        "def plot_graphs(history, string):\n",
        "  plt.plot(history.history[string])\n",
        "  plt.xlabel(\"Epochs\")\n",
        "  plt.ylabel(string)\n",
        "  plt.show()"
      ]
    },
    {
      "cell_type": "code",
      "execution_count": 11,
      "metadata": {
        "id": "z3c5P6q59bgg",
        "outputId": "880a5364-8a7a-4cf5-d6db-3d46c26ab532",
        "colab": {
          "base_uri": "https://localhost:8080/",
          "height": 449
        }
      },
      "outputs": [
        {
          "output_type": "display_data",
          "data": {
            "text/plain": [
              "<Figure size 640x480 with 1 Axes>"
            ],
            "image/png": "[encoded data removed]"
          },
          "metadata": {}
        }
      ],
      "source": [
        "plot_graphs(history, 'accuracy')\n"
      ]
    },
    {
      "cell_type": "code",
      "execution_count": 12,
      "metadata": {
        "id": "jg2s86c59dDO",
        "outputId": "d7ddac80-0323-4a77-c364-26e5828ff485",
        "colab": {
          "base_uri": "https://localhost:8080/"
        }
      },
      "outputs": [
        {
          "output_type": "stream",
          "name": "stdout",
          "text": [
            "1/1 [==============================] - 1s 1s/step\n",
            "1/1 [==============================] - 0s 36ms/step\n",
            "1/1 [==============================] - 0s 35ms/step\n",
            "1/1 [==============================] - 0s 28ms/step\n",
            "1/1 [==============================] - 0s 30ms/step\n",
            "1/1 [==============================] - 0s 30ms/step\n",
            "1/1 [==============================] - 0s 28ms/step\n",
            "1/1 [==============================] - 0s 31ms/step\n",
            "1/1 [==============================] - 0s 47ms/step\n",
            "1/1 [==============================] - 0s 43ms/step\n",
            "1/1 [==============================] - 0s 52ms/step\n",
            "1/1 [==============================] - 0s 47ms/step\n",
            "1/1 [==============================] - 0s 50ms/step\n",
            "1/1 [==============================] - 0s 48ms/step\n",
            "1/1 [==============================] - 0s 50ms/step\n",
            "1/1 [==============================] - 0s 40ms/step\n",
            "1/1 [==============================] - 0s 43ms/step\n",
            "1/1 [==============================] - 0s 52ms/step\n",
            "1/1 [==============================] - 0s 55ms/step\n",
            "1/1 [==============================] - 0s 46ms/step\n",
            "1/1 [==============================] - 0s 45ms/step\n",
            "1/1 [==============================] - 0s 39ms/step\n",
            "1/1 [==============================] - 0s 29ms/step\n",
            "1/1 [==============================] - 0s 32ms/step\n",
            "1/1 [==============================] - 0s 27ms/step\n",
            "1/1 [==============================] - 0s 33ms/step\n",
            "1/1 [==============================] - 0s 31ms/step\n",
            "1/1 [==============================] - 0s 29ms/step\n",
            "1/1 [==============================] - 0s 30ms/step\n",
            "1/1 [==============================] - 0s 27ms/step\n",
            "1/1 [==============================] - 0s 29ms/step\n",
            "1/1 [==============================] - 0s 29ms/step\n",
            "1/1 [==============================] - 0s 30ms/step\n",
            "1/1 [==============================] - 0s 31ms/step\n",
            "1/1 [==============================] - 0s 34ms/step\n",
            "1/1 [==============================] - 0s 30ms/step\n",
            "1/1 [==============================] - 0s 34ms/step\n",
            "1/1 [==============================] - 0s 28ms/step\n",
            "1/1 [==============================] - 0s 30ms/step\n",
            "1/1 [==============================] - 0s 29ms/step\n",
            "1/1 [==============================] - 0s 29ms/step\n",
            "1/1 [==============================] - 0s 29ms/step\n",
            "1/1 [==============================] - 0s 31ms/step\n",
            "1/1 [==============================] - 0s 47ms/step\n",
            "1/1 [==============================] - 0s 31ms/step\n",
            "1/1 [==============================] - 0s 32ms/step\n",
            "1/1 [==============================] - 0s 29ms/step\n",
            "1/1 [==============================] - 0s 30ms/step\n",
            "1/1 [==============================] - 0s 29ms/step\n",
            "1/1 [==============================] - 0s 34ms/step\n",
            "1/1 [==============================] - 0s 31ms/step\n",
            "1/1 [==============================] - 0s 37ms/step\n",
            "1/1 [==============================] - 0s 30ms/step\n",
            "1/1 [==============================] - 0s 30ms/step\n",
            "1/1 [==============================] - 0s 32ms/step\n",
            "1/1 [==============================] - 0s 33ms/step\n",
            "1/1 [==============================] - 0s 40ms/step\n",
            "1/1 [==============================] - 0s 34ms/step\n",
            "1/1 [==============================] - 0s 33ms/step\n",
            "1/1 [==============================] - 0s 37ms/step\n",
            "1/1 [==============================] - 0s 69ms/step\n",
            "1/1 [==============================] - 0s 29ms/step\n",
            "1/1 [==============================] - 0s 28ms/step\n",
            "1/1 [==============================] - 0s 30ms/step\n",
            "1/1 [==============================] - 0s 36ms/step\n",
            "1/1 [==============================] - 0s 36ms/step\n",
            "1/1 [==============================] - 0s 30ms/step\n",
            "1/1 [==============================] - 0s 29ms/step\n",
            "1/1 [==============================] - 0s 44ms/step\n",
            "1/1 [==============================] - 0s 34ms/step\n",
            "1/1 [==============================] - 0s 29ms/step\n",
            "1/1 [==============================] - 0s 31ms/step\n",
            "1/1 [==============================] - 0s 49ms/step\n",
            "1/1 [==============================] - 0s 31ms/step\n",
            "1/1 [==============================] - 0s 36ms/step\n",
            "1/1 [==============================] - 0s 31ms/step\n",
            "1/1 [==============================] - 0s 34ms/step\n",
            "1/1 [==============================] - 0s 28ms/step\n",
            "1/1 [==============================] - 0s 29ms/step\n",
            "1/1 [==============================] - 0s 29ms/step\n",
            "1/1 [==============================] - 0s 53ms/step\n",
            "1/1 [==============================] - 0s 30ms/step\n",
            "1/1 [==============================] - 0s 28ms/step\n",
            "1/1 [==============================] - 0s 28ms/step\n",
            "1/1 [==============================] - 0s 32ms/step\n",
            "1/1 [==============================] - 0s 29ms/step\n",
            "1/1 [==============================] - 0s 30ms/step\n",
            "1/1 [==============================] - 0s 29ms/step\n",
            "1/1 [==============================] - 0s 38ms/step\n",
            "1/1 [==============================] - 0s 32ms/step\n",
            "1/1 [==============================] - 0s 32ms/step\n",
            "1/1 [==============================] - 0s 28ms/step\n",
            "1/1 [==============================] - 0s 34ms/step\n",
            "1/1 [==============================] - 0s 27ms/step\n",
            "1/1 [==============================] - 0s 36ms/step\n",
            "1/1 [==============================] - 0s 29ms/step\n",
            "1/1 [==============================] - 0s 41ms/step\n",
            "1/1 [==============================] - 0s 44ms/step\n",
            "1/1 [==============================] - 0s 27ms/step\n",
            "1/1 [==============================] - 0s 32ms/step\n",
            "In the darkest night i will my love when he can keep say up it is someone i love her more has gone gone and paddy star me strength heard gone by wind lower wish middle magic i you could meet with mine she makes shed wonder young pride says ye but visit rocky bid threw streets of grow fairest slip starved write of all the sea shines swore youll be cry to stay out he grow but wind away out in its valley rove in the sea grow by your breast mary of the sea is this youll sat back more she she\n"
          ]
        }
      ],
      "source": [
        "seed_text = \"In the darkest night\"\n",
        "next_words = 100\n",
        "\n",
        "for _ in range(next_words):\n",
        "\ttoken_list = tokenizer.texts_to_sequences([seed_text])[0]\n",
        "\ttoken_list = pad_sequences([token_list], maxlen=max_sequence_len-1, padding='pre')\n",
        "\tpredicted = np.argmax(model.predict(token_list), axis=-1)\n",
        "\toutput_word = \"\"\n",
        "\tfor word, index in tokenizer.word_index.items():\n",
        "\t\tif index == predicted:\n",
        "\t\t\toutput_word = word\n",
        "\t\t\tbreak\n",
        "\tseed_text += \" \" + output_word\n",
        "print(seed_text)"
      ]
    },
    {
      "cell_type": "code",
      "execution_count": 12,
      "metadata": {
        "id": "euahez6D9e9N"
      },
      "outputs": [],
      "source": []
    }
  ],
  "metadata": {
    "colab": {
      "provenance": [],
      "authorship_tag": "ABX9TyPU9rKmqm75p56iAMOb4+c4",
      "include_colab_link": true
    },
    "kernelspec": {
      "display_name": "Python 3",
      "name": "python3"
    },
    "language_info": {
      "name": "python"
    }
  },
  "nbformat": 4,
  "nbformat_minor": 0
}