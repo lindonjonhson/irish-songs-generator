{
  "cells": [
    {
      "cell_type": "markdown",
      "metadata": {
        "id": "view-in-github",
        "colab_type": "text"
      },
      "source": [
        "<a href=\"https://colab.research.google.com/github/lindonjonhson/irish-songs-generator/blob/main/william_bot_yeats.ipynb\" target=\"_parent\"><img src=\"https://colab.research.google.com/assets/colab-badge.svg\" alt=\"Open In Colab\"/></a>"
      ]
    },
    {
      "cell_type": "code",
      "execution_count": null,
      "metadata": {
        "id": "pm5DbOhwfVTL"
      },
      "outputs": [],
      "source": [
        "import tensorflow as tf\n",
        "\n",
        "from tensorflow.keras.preprocessing.sequence import pad_sequences\n",
        "from tensorflow.keras.layers import Embedding, LSTM, Dense, Bidirectional\n",
        "from tensorflow.keras.preprocessing.text import Tokenizer\n",
        "from tensorflow.keras.models import Sequential\n",
        "from tensorflow.keras.optimizers import Adam\n",
        "import numpy as np"
      ]
    },
    {
      "cell_type": "code",
      "execution_count": null,
      "metadata": {
        "colab": {
          "base_uri": "https://localhost:8080/"
        },
        "id": "RDeqy_9nfosS",
        "outputId": "4a5088dd-c71d-40fb-95d9-767edd80237f"
      },
      "outputs": [
        {
          "name": "stdout",
          "output_type": "stream",
          "text": [
            "--2024-04-08 17:08:56--  https://storage.googleapis.com/learning-datasets/irish-lyrics-eof.txt\n",
            "Resolving storage.googleapis.com (storage.googleapis.com)... 173.194.198.207, 173.194.206.207, 173.194.74.207, ...\n",
            "Connecting to storage.googleapis.com (storage.googleapis.com)|173.194.198.207|:443... connected.\n",
            "HTTP request sent, awaiting response... 200 OK\n",
            "Length: 68970 (67K) [text/plain]\n",
            "Saving to: ‘/tmp/irish-lyrics-eof.txt’\n",
            "\n",
            "\r          /tmp/iris   0%[                    ]       0  --.-KB/s               \r/tmp/irish-lyrics-e 100%[===================>]  67.35K  --.-KB/s    in 0.002s  \n",
            "\n",
            "2024-04-08 17:08:56 (38.1 MB/s) - ‘/tmp/irish-lyrics-eof.txt’ saved [68970/68970]\n",
            "\n"
          ]
        }
      ],
      "source": [
        "!wget --no-check-certificate \\\n",
        "    https://storage.googleapis.com/learning-datasets/irish-lyrics-eof.txt \\\n",
        "    -O /tmp/irish-lyrics-eof.txt"
      ]
    },
    {
      "cell_type": "code",
      "execution_count": null,
      "metadata": {
        "id": "3VXNy32xpz5p"
      },
      "outputs": [],
      "source": [
        "tokenizer = Tokenizer()\n",
        "\n",
        "data = open('/tmp/irish-lyrics-eof.txt').read()\n",
        "\n",
        "corpus = data.lower().split(\"\\n\")\n",
        "\n",
        "#Fitting the tokenizer with the sentences\n",
        "tokenizer.fit_on_texts(corpus)\n",
        "total_words = len(tokenizer.word_index) + 1   #2690"
      ]
    },
    {
      "cell_type": "markdown",
      "metadata": {
        "id": "GkBDUyH33gKC"
      },
      "source": [
        "When generating text, we do not need a test set"
      ]
    },
    {
      "cell_type": "code",
      "execution_count": null,
      "metadata": {
        "id": "I200bd6_p4x2"
      },
      "outputs": [],
      "source": [
        "# Creating sequences\n",
        "input_sequences =[]\n",
        "\n",
        "for line in corpus:\n",
        "  token_list = tokenizer.texts_to_sequences([line])[0]  # Transform the lines in arrays with the codes from the word index\n",
        "  #print(token_list)\n",
        "  #print(line)\n",
        "  #print(len(token_list))\n",
        "  for i in range(1, len(token_list)): # Now we will work with ngrams, which are the \"parts\" of a line until it is completemax\n",
        "    #print(token_list[:i+1])\n",
        "    n_gram_sequence = token_list[:i+1]\n",
        "    #print(n_gram_sequence)\n",
        "    input_sequences.append(n_gram_sequence)"
      ]
    },
    {
      "cell_type": "code",
      "execution_count": null,
      "metadata": {
        "id": "9xCgq1Qoujb2"
      },
      "outputs": [],
      "source": [
        "# Retrieving the length of the longest of the sentences\n",
        "max_sequence_len = max(len(x) for x in input_sequences)\n",
        "\n",
        "#Padding\n",
        "input_sequences = np.array(pad_sequences(input_sequences, maxlen=max_sequence_len, padding='pre'))"
      ]
    },
    {
      "cell_type": "code",
      "execution_count": null,
      "metadata": {
        "id": "vkKh63uowvq7"
      },
      "outputs": [],
      "source": [
        "# Generating Xs and Ys/labels by splitting the arrays\n",
        "\n",
        "xs = input_sequences[:, :-1]\n",
        "labels = input_sequences[:, -1]"
      ]
    },
    {
      "cell_type": "code",
      "execution_count": null,
      "metadata": {
        "id": "4QWCtNDcrSjS"
      },
      "outputs": [],
      "source": [
        "# Now we will make the labels categorical and hot-encoded\n",
        "ys = tf.keras.utils.to_categorical(labels, num_classes=total_words)"
      ]
    },
    {
      "cell_type": "code",
      "execution_count": null,
      "metadata": {
        "colab": {
          "base_uri": "https://localhost:8080/",
          "height": 599
        },
        "id": "cakXt9W7sMjZ",
        "outputId": "57d8c305-ae86-46fb-ca70-0ab6f08c3e7c"
      },
      "outputs": [
        {
          "name": "stdout",
          "output_type": "stream",
          "text": [
            "Epoch 1/100\n"
          ]
        },
        {
          "ename": "ValueError",
          "evalue": "in user code:\n\n    File \"/usr/local/lib/python3.10/dist-packages/keras/src/engine/training.py\", line 1401, in train_function  *\n        return step_function(self, iterator)\n    File \"/usr/local/lib/python3.10/dist-packages/keras/src/engine/training.py\", line 1384, in step_function  **\n        outputs = model.distribute_strategy.run(run_step, args=(data,))\n    File \"/usr/local/lib/python3.10/dist-packages/keras/src/engine/training.py\", line 1373, in run_step  **\n        outputs = model.train_step(data)\n    File \"/usr/local/lib/python3.10/dist-packages/keras/src/engine/training.py\", line 1150, in train_step\n        y_pred = self(x, training=True)\n    File \"/usr/local/lib/python3.10/dist-packages/keras/src/utils/traceback_utils.py\", line 70, in error_handler\n        raise e.with_traceback(filtered_tb) from None\n    File \"/usr/local/lib/python3.10/dist-packages/keras/src/engine/input_spec.py\", line 298, in assert_input_compatibility\n        raise ValueError(\n\n    ValueError: Input 0 of layer \"sequential\" is incompatible with the layer: expected shape=(None, 16), found shape=(None, 15)\n",
          "output_type": "error",
          "traceback": [
            "\u001b[0;31m---------------------------------------------------------------------------\u001b[0m",
            "\u001b[0;31mValueError\u001b[0m                                Traceback (most recent call last)",
            "\u001b[0;32m<ipython-input-9-03b13dc1ae4a>\u001b[0m in \u001b[0;36m<cell line: 9>\u001b[0;34m()\u001b[0m\n\u001b[1;32m      7\u001b[0m \u001b[0mmodel\u001b[0m\u001b[0;34m.\u001b[0m\u001b[0mcompile\u001b[0m\u001b[0;34m(\u001b[0m\u001b[0mloss\u001b[0m\u001b[0;34m=\u001b[0m\u001b[0;34m'categorical_entropy'\u001b[0m\u001b[0;34m,\u001b[0m \u001b[0moptimizer\u001b[0m\u001b[0;34m=\u001b[0m\u001b[0madam\u001b[0m\u001b[0;34m,\u001b[0m \u001b[0mmetrics\u001b[0m\u001b[0;34m=\u001b[0m\u001b[0;34m[\u001b[0m\u001b[0;34m'accuracy'\u001b[0m\u001b[0;34m]\u001b[0m\u001b[0;34m)\u001b[0m\u001b[0;34m\u001b[0m\u001b[0;34m\u001b[0m\u001b[0m\n\u001b[1;32m      8\u001b[0m \u001b[0;31m# history = model.fit(xs, ys, epochs=100, verbose=1)\u001b[0m\u001b[0;34m\u001b[0m\u001b[0;34m\u001b[0m\u001b[0m\n\u001b[0;32m----> 9\u001b[0;31m \u001b[0mhistory\u001b[0m \u001b[0;34m=\u001b[0m \u001b[0mmodel\u001b[0m\u001b[0;34m.\u001b[0m\u001b[0mfit\u001b[0m\u001b[0;34m(\u001b[0m\u001b[0mxs\u001b[0m\u001b[0;34m,\u001b[0m \u001b[0mys\u001b[0m\u001b[0;34m,\u001b[0m \u001b[0mepochs\u001b[0m\u001b[0;34m=\u001b[0m\u001b[0;36m100\u001b[0m\u001b[0;34m,\u001b[0m \u001b[0mverbose\u001b[0m\u001b[0;34m=\u001b[0m\u001b[0;36m1\u001b[0m\u001b[0;34m)\u001b[0m\u001b[0;34m\u001b[0m\u001b[0;34m\u001b[0m\u001b[0m\n\u001b[0m",
            "\u001b[0;32m/usr/local/lib/python3.10/dist-packages/keras/src/utils/traceback_utils.py\u001b[0m in \u001b[0;36merror_handler\u001b[0;34m(*args, **kwargs)\u001b[0m\n\u001b[1;32m     68\u001b[0m             \u001b[0;31m# To get the full stack trace, call:\u001b[0m\u001b[0;34m\u001b[0m\u001b[0;34m\u001b[0m\u001b[0m\n\u001b[1;32m     69\u001b[0m             \u001b[0;31m# `tf.debugging.disable_traceback_filtering()`\u001b[0m\u001b[0;34m\u001b[0m\u001b[0;34m\u001b[0m\u001b[0m\n\u001b[0;32m---> 70\u001b[0;31m             \u001b[0;32mraise\u001b[0m \u001b[0me\u001b[0m\u001b[0;34m.\u001b[0m\u001b[0mwith_traceback\u001b[0m\u001b[0;34m(\u001b[0m\u001b[0mfiltered_tb\u001b[0m\u001b[0;34m)\u001b[0m \u001b[0;32mfrom\u001b[0m \u001b[0;32mNone\u001b[0m\u001b[0;34m\u001b[0m\u001b[0;34m\u001b[0m\u001b[0m\n\u001b[0m\u001b[1;32m     71\u001b[0m         \u001b[0;32mfinally\u001b[0m\u001b[0;34m:\u001b[0m\u001b[0;34m\u001b[0m\u001b[0;34m\u001b[0m\u001b[0m\n\u001b[1;32m     72\u001b[0m             \u001b[0;32mdel\u001b[0m \u001b[0mfiltered_tb\u001b[0m\u001b[0;34m\u001b[0m\u001b[0;34m\u001b[0m\u001b[0m\n",
            "\u001b[0;32m/usr/local/lib/python3.10/dist-packages/keras/src/engine/training.py\u001b[0m in \u001b[0;36mtf__train_function\u001b[0;34m(iterator)\u001b[0m\n\u001b[1;32m     13\u001b[0m                 \u001b[0;32mtry\u001b[0m\u001b[0;34m:\u001b[0m\u001b[0;34m\u001b[0m\u001b[0;34m\u001b[0m\u001b[0m\n\u001b[1;32m     14\u001b[0m                     \u001b[0mdo_return\u001b[0m \u001b[0;34m=\u001b[0m \u001b[0;32mTrue\u001b[0m\u001b[0;34m\u001b[0m\u001b[0;34m\u001b[0m\u001b[0m\n\u001b[0;32m---> 15\u001b[0;31m                     \u001b[0mretval_\u001b[0m \u001b[0;34m=\u001b[0m \u001b[0mag__\u001b[0m\u001b[0;34m.\u001b[0m\u001b[0mconverted_call\u001b[0m\u001b[0;34m(\u001b[0m\u001b[0mag__\u001b[0m\u001b[0;34m.\u001b[0m\u001b[0mld\u001b[0m\u001b[0;34m(\u001b[0m\u001b[0mstep_function\u001b[0m\u001b[0;34m)\u001b[0m\u001b[0;34m,\u001b[0m \u001b[0;34m(\u001b[0m\u001b[0mag__\u001b[0m\u001b[0;34m.\u001b[0m\u001b[0mld\u001b[0m\u001b[0;34m(\u001b[0m\u001b[0mself\u001b[0m\u001b[0;34m)\u001b[0m\u001b[0;34m,\u001b[0m \u001b[0mag__\u001b[0m\u001b[0;34m.\u001b[0m\u001b[0mld\u001b[0m\u001b[0;34m(\u001b[0m\u001b[0miterator\u001b[0m\u001b[0;34m)\u001b[0m\u001b[0;34m)\u001b[0m\u001b[0;34m,\u001b[0m \u001b[0;32mNone\u001b[0m\u001b[0;34m,\u001b[0m \u001b[0mfscope\u001b[0m\u001b[0;34m)\u001b[0m\u001b[0;34m\u001b[0m\u001b[0;34m\u001b[0m\u001b[0m\n\u001b[0m\u001b[1;32m     16\u001b[0m                 \u001b[0;32mexcept\u001b[0m\u001b[0;34m:\u001b[0m\u001b[0;34m\u001b[0m\u001b[0;34m\u001b[0m\u001b[0m\n\u001b[1;32m     17\u001b[0m                     \u001b[0mdo_return\u001b[0m \u001b[0;34m=\u001b[0m \u001b[0;32mFalse\u001b[0m\u001b[0;34m\u001b[0m\u001b[0;34m\u001b[0m\u001b[0m\n",
            "\u001b[0;31mValueError\u001b[0m: in user code:\n\n    File \"/usr/local/lib/python3.10/dist-packages/keras/src/engine/training.py\", line 1401, in train_function  *\n        return step_function(self, iterator)\n    File \"/usr/local/lib/python3.10/dist-packages/keras/src/engine/training.py\", line 1384, in step_function  **\n        outputs = model.distribute_strategy.run(run_step, args=(data,))\n    File \"/usr/local/lib/python3.10/dist-packages/keras/src/engine/training.py\", line 1373, in run_step  **\n        outputs = model.train_step(data)\n    File \"/usr/local/lib/python3.10/dist-packages/keras/src/engine/training.py\", line 1150, in train_step\n        y_pred = self(x, training=True)\n    File \"/usr/local/lib/python3.10/dist-packages/keras/src/utils/traceback_utils.py\", line 70, in error_handler\n        raise e.with_traceback(filtered_tb) from None\n    File \"/usr/local/lib/python3.10/dist-packages/keras/src/engine/input_spec.py\", line 298, in assert_input_compatibility\n        raise ValueError(\n\n    ValueError: Input 0 of layer \"sequential\" is incompatible with the layer: expected shape=(None, 16), found shape=(None, 15)\n"
          ]
        }
      ],
      "source": [
        "# Train the model with the data\n",
        "model = Sequential()\n",
        "model.add(Embedding(total_words, 240, input_length=max_sequence_len))\n",
        "model.add(Bidirectional(LSTM(150)))\n",
        "model.add(Dense(total_words, activation='softmax'))\n",
        "adam = Adam(learning_rate=0.01)\n",
        "model.compile(loss='categorical_entropy', optimizer=adam, metrics=['accuracy'])\n",
        "# history = model.fit(xs, ys, epochs=100, verbose=1)\n",
        "history = model.fit(xs, ys, epochs=100, verbose=1)"
      ]
    },
    {
      "cell_type": "code",
      "execution_count": null,
      "metadata": {
        "colab": {
          "background_save": true,
          "base_uri": "https://localhost:8080/"
        },
        "id": "TTt26EBUtruz",
        "outputId": "48a1a158-7ca6-4cee-a358-1543280cf150"
      },
      "outputs": [
        {
          "name": "stderr",
          "output_type": "stream",
          "text": [
            "WARNING:absl:`lr` is deprecated in Keras optimizer, please use `learning_rate` or use the legacy optimizer, e.g.,tf.keras.optimizers.legacy.Adam.\n"
          ]
        },
        {
          "name": "stdout",
          "output_type": "stream",
          "text": [
            "Epoch 1/100\n",
            "377/377 [==============================] - 40s 92ms/step - loss: 6.7516 - accuracy: 0.0652\n",
            "Epoch 2/100\n",
            "377/377 [==============================] - 35s 94ms/step - loss: 6.2532 - accuracy: 0.0752\n",
            "Epoch 3/100\n",
            "377/377 [==============================] - 35s 93ms/step - loss: 5.9931 - accuracy: 0.0836\n",
            "Epoch 4/100\n",
            "377/377 [==============================] - 36s 96ms/step - loss: 5.6918 - accuracy: 0.1012\n",
            "Epoch 5/100\n",
            "377/377 [==============================] - 34s 89ms/step - loss: 5.3571 - accuracy: 0.1149\n",
            "Epoch 6/100\n",
            "377/377 [==============================] - 34s 90ms/step - loss: 4.9929 - accuracy: 0.1327\n",
            "Epoch 7/100\n",
            "377/377 [==============================] - 33s 87ms/step - loss: 4.6367 - accuracy: 0.1527\n",
            "Epoch 8/100\n",
            "377/377 [==============================] - 34s 91ms/step - loss: 4.2816 - accuracy: 0.1798\n",
            "Epoch 9/100\n",
            "377/377 [==============================] - 34s 91ms/step - loss: 3.9316 - accuracy: 0.2172\n",
            "Epoch 10/100\n",
            "377/377 [==============================] - 33s 86ms/step - loss: 3.6016 - accuracy: 0.2609\n",
            "Epoch 11/100\n",
            "377/377 [==============================] - 36s 94ms/step - loss: 3.2807 - accuracy: 0.3160\n",
            "Epoch 12/100\n",
            "377/377 [==============================] - 34s 91ms/step - loss: 2.9776 - accuracy: 0.3721\n",
            "Epoch 13/100\n",
            "377/377 [==============================] - 33s 87ms/step - loss: 2.7111 - accuracy: 0.4237\n",
            "Epoch 14/100\n",
            "377/377 [==============================] - 34s 91ms/step - loss: 2.4646 - accuracy: 0.4728\n",
            "Epoch 15/100\n",
            "377/377 [==============================] - 33s 87ms/step - loss: 2.2427 - accuracy: 0.5254\n",
            "Epoch 16/100\n",
            "377/377 [==============================] - 34s 90ms/step - loss: 2.0372 - accuracy: 0.5670\n",
            "Epoch 17/100\n",
            "377/377 [==============================] - 34s 91ms/step - loss: 1.8609 - accuracy: 0.6033\n",
            "Epoch 18/100\n",
            "377/377 [==============================] - 33s 88ms/step - loss: 1.7002 - accuracy: 0.6412\n",
            "Epoch 19/100\n",
            "377/377 [==============================] - 34s 91ms/step - loss: 1.5532 - accuracy: 0.6754\n",
            "Epoch 20/100\n",
            "377/377 [==============================] - 35s 92ms/step - loss: 1.4300 - accuracy: 0.6997\n",
            "Epoch 21/100\n",
            "377/377 [==============================] - 33s 88ms/step - loss: 1.3174 - accuracy: 0.7220\n",
            "Epoch 22/100\n",
            "377/377 [==============================] - 33s 89ms/step - loss: 1.2177 - accuracy: 0.7443\n",
            "Epoch 23/100\n",
            "377/377 [==============================] - 34s 89ms/step - loss: 1.1233 - accuracy: 0.7668\n",
            "Epoch 24/100\n",
            "377/377 [==============================] - 35s 93ms/step - loss: 1.0412 - accuracy: 0.7831\n",
            "Epoch 25/100\n",
            "377/377 [==============================] - 35s 93ms/step - loss: 0.9762 - accuracy: 0.7955\n",
            "Epoch 26/100\n",
            "377/377 [==============================] - 34s 90ms/step - loss: 0.9137 - accuracy: 0.8048\n",
            "Epoch 27/100\n",
            "377/377 [==============================] - 35s 92ms/step - loss: 0.8628 - accuracy: 0.8143\n",
            "Epoch 28/100\n",
            "377/377 [==============================] - 34s 91ms/step - loss: 0.8099 - accuracy: 0.8249\n",
            "Epoch 29/100\n",
            "377/377 [==============================] - 34s 91ms/step - loss: 0.7760 - accuracy: 0.8284\n",
            "Epoch 30/100\n",
            "377/377 [==============================] - 36s 96ms/step - loss: 0.7421 - accuracy: 0.8344\n",
            "Epoch 31/100\n",
            "377/377 [==============================] - 35s 92ms/step - loss: 0.7160 - accuracy: 0.8365\n",
            "Epoch 32/100\n",
            "377/377 [==============================] - 34s 90ms/step - loss: 0.6905 - accuracy: 0.8402\n",
            "Epoch 33/100\n",
            "377/377 [==============================] - 35s 92ms/step - loss: 0.6654 - accuracy: 0.8439\n",
            "Epoch 34/100\n",
            "377/377 [==============================] - 34s 91ms/step - loss: 0.6519 - accuracy: 0.8432\n",
            "Epoch 35/100\n",
            "377/377 [==============================] - 33s 87ms/step - loss: 0.6325 - accuracy: 0.8464\n",
            "Epoch 36/100\n",
            "377/377 [==============================] - 34s 91ms/step - loss: 0.6155 - accuracy: 0.8491\n",
            "Epoch 37/100\n",
            "377/377 [==============================] - 33s 87ms/step - loss: 0.6137 - accuracy: 0.8480\n",
            "Epoch 38/100\n",
            "377/377 [==============================] - 33s 87ms/step - loss: 0.5948 - accuracy: 0.8474\n",
            "Epoch 39/100\n",
            "377/377 [==============================] - 35s 92ms/step - loss: 0.5924 - accuracy: 0.8475\n",
            "Epoch 40/100\n",
            "377/377 [==============================] - 32s 86ms/step - loss: 0.5871 - accuracy: 0.8487\n",
            "Epoch 41/100\n",
            "377/377 [==============================] - 32s 85ms/step - loss: 0.5737 - accuracy: 0.8492\n",
            "Epoch 42/100\n",
            "377/377 [==============================] - 33s 87ms/step - loss: 0.5661 - accuracy: 0.8492\n",
            "Epoch 43/100\n",
            "377/377 [==============================] - 32s 84ms/step - loss: 0.5581 - accuracy: 0.8515\n",
            "Epoch 44/100\n",
            "377/377 [==============================] - 33s 87ms/step - loss: 0.5544 - accuracy: 0.8526\n",
            "Epoch 45/100\n",
            "377/377 [==============================] - 32s 84ms/step - loss: 0.5512 - accuracy: 0.8510\n",
            "Epoch 46/100\n",
            "377/377 [==============================] - 33s 88ms/step - loss: 0.5484 - accuracy: 0.8521\n",
            "Epoch 47/100\n",
            "377/377 [==============================] - 34s 89ms/step - loss: 0.5431 - accuracy: 0.8493\n",
            "Epoch 48/100\n",
            "377/377 [==============================] - 33s 89ms/step - loss: 0.5423 - accuracy: 0.8514\n",
            "Epoch 49/100\n",
            "377/377 [==============================] - 33s 86ms/step - loss: 0.5335 - accuracy: 0.8516\n",
            "Epoch 50/100\n",
            "377/377 [==============================] - 34s 90ms/step - loss: 0.5300 - accuracy: 0.8506\n",
            "Epoch 51/100\n",
            "377/377 [==============================] - 32s 86ms/step - loss: 0.5356 - accuracy: 0.8500\n",
            "Epoch 52/100\n",
            "377/377 [==============================] - 34s 91ms/step - loss: 0.5285 - accuracy: 0.8527\n",
            "Epoch 53/100\n",
            "377/377 [==============================] - 35s 92ms/step - loss: 0.5256 - accuracy: 0.8515\n",
            "Epoch 54/100\n",
            "377/377 [==============================] - 33s 88ms/step - loss: 0.5189 - accuracy: 0.8537\n",
            "Epoch 55/100\n",
            "377/377 [==============================] - 35s 94ms/step - loss: 0.5172 - accuracy: 0.8531\n",
            "Epoch 56/100\n",
            "377/377 [==============================] - 35s 93ms/step - loss: 0.5164 - accuracy: 0.8526\n",
            "Epoch 57/100\n",
            "377/377 [==============================] - 33s 89ms/step - loss: 0.5148 - accuracy: 0.8514\n",
            "Epoch 58/100\n",
            "377/377 [==============================] - 34s 91ms/step - loss: 0.5121 - accuracy: 0.8512\n",
            "Epoch 59/100\n",
            "377/377 [==============================] - 34s 90ms/step - loss: 0.5118 - accuracy: 0.8521\n",
            "Epoch 60/100\n",
            "377/377 [==============================] - 34s 91ms/step - loss: 0.5090 - accuracy: 0.8521\n",
            "Epoch 61/100\n",
            "377/377 [==============================] - 33s 88ms/step - loss: 0.5091 - accuracy: 0.8519\n",
            "Epoch 62/100\n",
            "377/377 [==============================] - 35s 93ms/step - loss: 0.5127 - accuracy: 0.8500\n",
            "Epoch 63/100\n",
            "377/377 [==============================] - 35s 93ms/step - loss: 0.5099 - accuracy: 0.8516\n",
            "Epoch 64/100\n",
            "377/377 [==============================] - 36s 94ms/step - loss: 0.5048 - accuracy: 0.8519\n",
            "Epoch 65/100\n",
            "377/377 [==============================] - 35s 91ms/step - loss: 0.5039 - accuracy: 0.8509\n",
            "Epoch 66/100\n",
            "377/377 [==============================] - 36s 95ms/step - loss: 0.5001 - accuracy: 0.8530\n",
            "Epoch 67/100\n",
            "377/377 [==============================] - 37s 98ms/step - loss: 0.4986 - accuracy: 0.8509\n",
            "Epoch 68/100\n",
            "377/377 [==============================] - 36s 94ms/step - loss: 0.4951 - accuracy: 0.8543\n",
            "Epoch 69/100\n",
            "377/377 [==============================] - 34s 90ms/step - loss: 0.4948 - accuracy: 0.8529\n",
            "Epoch 70/100\n",
            "377/377 [==============================] - 35s 93ms/step - loss: 0.4929 - accuracy: 0.8533\n",
            "Epoch 71/100\n",
            "377/377 [==============================] - 35s 94ms/step - loss: 0.4926 - accuracy: 0.8538\n",
            "Epoch 72/100\n",
            "377/377 [==============================] - 35s 92ms/step - loss: 0.4952 - accuracy: 0.8529\n",
            "Epoch 73/100\n",
            "377/377 [==============================] - 34s 91ms/step - loss: 0.4952 - accuracy: 0.8505\n",
            "Epoch 74/100\n",
            "377/377 [==============================] - 36s 95ms/step - loss: 0.4980 - accuracy: 0.8515\n",
            "Epoch 75/100\n",
            "377/377 [==============================] - 36s 96ms/step - loss: 0.4926 - accuracy: 0.8533\n",
            "Epoch 76/100\n",
            "377/377 [==============================] - 35s 94ms/step - loss: 0.4887 - accuracy: 0.8526\n",
            "Epoch 77/100\n",
            "377/377 [==============================] - 35s 93ms/step - loss: 0.4864 - accuracy: 0.8528\n",
            "Epoch 78/100\n",
            "377/377 [==============================] - 34s 90ms/step - loss: 0.4854 - accuracy: 0.8537\n",
            "Epoch 79/100\n",
            "377/377 [==============================] - 35s 93ms/step - loss: 0.4877 - accuracy: 0.8510\n",
            "Epoch 80/100\n",
            "377/377 [==============================] - 35s 92ms/step - loss: 0.4851 - accuracy: 0.8547\n",
            "Epoch 81/100\n",
            "377/377 [==============================] - 35s 94ms/step - loss: 0.4846 - accuracy: 0.8535\n",
            "Epoch 82/100\n",
            "377/377 [==============================] - 34s 90ms/step - loss: 0.4807 - accuracy: 0.8541\n",
            "Epoch 83/100\n",
            "377/377 [==============================] - 36s 95ms/step - loss: 0.4798 - accuracy: 0.8533\n",
            "Epoch 84/100\n",
            "377/377 [==============================] - 37s 97ms/step - loss: 0.4837 - accuracy: 0.8519\n",
            "Epoch 85/100\n",
            "377/377 [==============================] - 35s 93ms/step - loss: 0.4885 - accuracy: 0.8526\n",
            "Epoch 86/100\n",
            "377/377 [==============================] - 34s 90ms/step - loss: 0.4977 - accuracy: 0.8517\n",
            "Epoch 87/100\n",
            "377/377 [==============================] - 35s 93ms/step - loss: 0.4845 - accuracy: 0.8519\n",
            "Epoch 88/100\n",
            "377/377 [==============================] - 34s 89ms/step - loss: 0.4774 - accuracy: 0.8529\n",
            "Epoch 89/100\n",
            "377/377 [==============================] - 33s 87ms/step - loss: 0.4756 - accuracy: 0.8563\n",
            "Epoch 90/100\n",
            "377/377 [==============================] - 34s 90ms/step - loss: 0.4746 - accuracy: 0.8544\n",
            "Epoch 91/100\n",
            "377/377 [==============================] - 34s 90ms/step - loss: 0.4778 - accuracy: 0.8537\n",
            "Epoch 92/100\n",
            "377/377 [==============================] - 33s 87ms/step - loss: 0.4779 - accuracy: 0.8521\n",
            "Epoch 93/100\n",
            "377/377 [==============================] - 33s 88ms/step - loss: 0.4735 - accuracy: 0.8535\n",
            "Epoch 94/100\n",
            "377/377 [==============================] - 35s 92ms/step - loss: 0.4732 - accuracy: 0.8535\n",
            "Epoch 95/100\n",
            "377/377 [==============================] - 32s 84ms/step - loss: 0.4734 - accuracy: 0.8519\n",
            "Epoch 96/100\n",
            "377/377 [==============================] - 35s 92ms/step - loss: 0.4742 - accuracy: 0.8534\n",
            "Epoch 97/100\n",
            "377/377 [==============================] - 36s 96ms/step - loss: 0.4792 - accuracy: 0.8531\n",
            "Epoch 98/100\n",
            "377/377 [==============================] - 36s 95ms/step - loss: 0.4805 - accuracy: 0.8530\n",
            "Epoch 99/100\n",
            "377/377 [==============================] - 34s 89ms/step - loss: 0.4777 - accuracy: 0.8530\n",
            "Epoch 100/100\n",
            "377/377 [==============================] - 35s 93ms/step - loss: 0.4710 - accuracy: 0.8550\n",
            "<keras.src.engine.sequential.Sequential object at 0x7f3fd5dede10>\n"
          ]
        }
      ],
      "source": [
        "model = Sequential()\n",
        "model.add(Embedding(total_words, 100, input_length=max_sequence_len-1))\n",
        "model.add(Bidirectional(LSTM(150)))\n",
        "model.add(Dense(total_words, activation='softmax'))\n",
        "adam = Adam(lr=0.01)\n",
        "model.compile(loss='categorical_crossentropy', optimizer=adam, metrics=['accuracy'])\n",
        "#earlystop = EarlyStopping(monitor='val_loss', min_delta=0, patience=5, verbose=0, mode='auto')\n",
        "history = model.fit(xs, ys, epochs=100, verbose=1)\n",
        "#print model.summary()\n",
        "print(model)\n"
      ]
    },
    {
      "cell_type": "code",
      "execution_count": null,
      "metadata": {
        "id": "xi3JAibjuQux"
      },
      "outputs": [],
      "source": [
        "import matplotlib.pyplot as plt\n",
        "\n",
        "\n",
        "def plot_graphs(history, string):\n",
        "  plt.plot(history.history[string])\n",
        "  plt.xlabel(\"Epochs\")\n",
        "  plt.ylabel(string)\n",
        "  plt.show()"
      ]
    },
    {
      "cell_type": "code",
      "execution_count": null,
      "metadata": {
        "id": "z3c5P6q59bgg"
      },
      "outputs": [],
      "source": [
        "plot_graphs(history, 'accuracy')\n"
      ]
    },
    {
      "cell_type": "code",
      "execution_count": null,
      "metadata": {
        "id": "jg2s86c59dDO"
      },
      "outputs": [],
      "source": [
        "seed_text = \"In the darkest night\"\n",
        "next_words = 100\n",
        "\n",
        "for _ in range(next_words):\n",
        "\ttoken_list = tokenizer.texts_to_sequences([seed_text])[0]\n",
        "\ttoken_list = pad_sequences([token_list], maxlen=max_sequence_len-1, padding='pre')\n",
        "\tpredicted = np.argmax(model.predict(token_list), axis=-1)\n",
        "\toutput_word = \"\"\n",
        "\tfor word, index in tokenizer.word_index.items():\n",
        "\t\tif index == predicted:\n",
        "\t\t\toutput_word = word\n",
        "\t\t\tbreak\n",
        "\tseed_text += \" \" + output_word\n",
        "print(seed_text)"
      ]
    },
    {
      "cell_type": "code",
      "execution_count": null,
      "metadata": {
        "id": "euahez6D9e9N"
      },
      "outputs": [],
      "source": []
    }
  ],
  "metadata": {
    "colab": {
      "provenance": [],
      "authorship_tag": "ABX9TyMKPAx9qpc3iW0+FUytNM9o",
      "include_colab_link": true
    },
    "kernelspec": {
      "display_name": "Python 3",
      "name": "python3"
    },
    "language_info": {
      "name": "python"
    }
  },
  "nbformat": 4,
  "nbformat_minor": 0
}